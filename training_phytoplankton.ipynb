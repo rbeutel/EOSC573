{
 "cells": [
  {
   "cell_type": "markdown",
   "metadata": {},
   "source": [
    "# Phytoplankton Results - Field School 2021"
   ]
  },
  {
   "cell_type": "code",
   "execution_count": 1,
   "metadata": {},
   "outputs": [],
   "source": [
    "import numpy as np\n",
    "import pandas as pd\n",
    "import matplotlib.pyplot as plt\n",
    "import math\n",
    "import statistics as stat"
   ]
  },
  {
   "cell_type": "markdown",
   "metadata": {},
   "source": [
    "### Station 2 - Microscope"
   ]
  },
  {
   "cell_type": "code",
   "execution_count": 2,
   "metadata": {},
   "outputs": [],
   "source": [
    "depth2 = 5 #m\n",
    "sconc = 0.6 #number of phytoplankton per square = per uL\n",
    "D = 10 #um, average cell diameter\n",
    "V = (4/3)*math.pi*((D/2)**3) #um3, volume per cell"
   ]
  },
  {
   "cell_type": "code",
   "execution_count": 3,
   "metadata": {},
   "outputs": [],
   "source": [
    "#number of cells per L of water\n",
    "ncells = sconc * 1000 * 100 #cells per L"
   ]
  },
  {
   "cell_type": "code",
   "execution_count": 4,
   "metadata": {},
   "outputs": [
    {
     "name": "stdout",
     "output_type": "stream",
     "text": [
      "the 5m carbon content at station 2 is 17886.327280177968 pg/L\n"
     ]
    }
   ],
   "source": [
    "#carbon content at station 2\n",
    "Ccell = 10**-(0.758*math.log(V)-4.22) #pg, mass carbon per cell\n",
    "Ctotal2 = Ccell*ncells #pg/L, mass carbon per L water\n",
    "print(\"the 5m carbon content at station 2 is \"+str(Ctotal2)+\" pg/L\")"
   ]
  },
  {
   "cell_type": "code",
   "execution_count": 5,
   "metadata": {},
   "outputs": [
    {
     "data": {
      "text/plain": [
       "0.017886327280177968"
      ]
     },
     "execution_count": 5,
     "metadata": {},
     "output_type": "execute_result"
    }
   ],
   "source": [
    "# Convert to correct units\n",
    "Ctotal = Ctotal2*(10**-6)\n",
    "Ctotal"
   ]
  },
  {
   "cell_type": "markdown",
   "metadata": {},
   "source": [
    "### Chlorophyll Results"
   ]
  },
  {
   "cell_type": "code",
   "execution_count": 6,
   "metadata": {},
   "outputs": [],
   "source": [
    "chloro = pd.read_csv('chlorophyll.csv')"
   ]
  },
  {
   "cell_type": "code",
   "execution_count": 7,
   "metadata": {},
   "outputs": [],
   "source": [
    "Vsw = 500 #mL seawater per sample\n",
    "Vacetone = 8 #mL acetone per sample\n",
    "chloro['chlorophyll conc (ug/L)'] = 1.917*(chloro['1st reading (ug/L)']-chloro['with HCL (ug/L)'])*(Vacetone/Vsw)"
   ]
  },
  {
   "cell_type": "code",
   "execution_count": 8,
   "metadata": {},
   "outputs": [
    {
     "data": {
      "text/html": [
       "<div>\n",
       "<style scoped>\n",
       "    .dataframe tbody tr th:only-of-type {\n",
       "        vertical-align: middle;\n",
       "    }\n",
       "\n",
       "    .dataframe tbody tr th {\n",
       "        vertical-align: top;\n",
       "    }\n",
       "\n",
       "    .dataframe thead th {\n",
       "        text-align: right;\n",
       "    }\n",
       "</style>\n",
       "<table border=\"1\" class=\"dataframe\">\n",
       "  <thead>\n",
       "    <tr style=\"text-align: right;\">\n",
       "      <th></th>\n",
       "      <th>sample</th>\n",
       "      <th>station</th>\n",
       "      <th>depth (m)</th>\n",
       "      <th>1st reading (ug/L)</th>\n",
       "      <th>with HCL (ug/L)</th>\n",
       "      <th>chlorophyll conc (ug/L)</th>\n",
       "    </tr>\n",
       "  </thead>\n",
       "  <tbody>\n",
       "    <tr>\n",
       "      <th>0</th>\n",
       "      <td>62</td>\n",
       "      <td>1</td>\n",
       "      <td>0</td>\n",
       "      <td>28.63</td>\n",
       "      <td>16.90</td>\n",
       "      <td>0.359783</td>\n",
       "    </tr>\n",
       "    <tr>\n",
       "      <th>1</th>\n",
       "      <td>63</td>\n",
       "      <td>1</td>\n",
       "      <td>0</td>\n",
       "      <td>32.71</td>\n",
       "      <td>18.16</td>\n",
       "      <td>0.446278</td>\n",
       "    </tr>\n",
       "    <tr>\n",
       "      <th>2</th>\n",
       "      <td>60</td>\n",
       "      <td>1</td>\n",
       "      <td>5</td>\n",
       "      <td>9.77</td>\n",
       "      <td>7.27</td>\n",
       "      <td>0.076680</td>\n",
       "    </tr>\n",
       "    <tr>\n",
       "      <th>3</th>\n",
       "      <td>57</td>\n",
       "      <td>2</td>\n",
       "      <td>0</td>\n",
       "      <td>29.16</td>\n",
       "      <td>17.32</td>\n",
       "      <td>0.363156</td>\n",
       "    </tr>\n",
       "    <tr>\n",
       "      <th>4</th>\n",
       "      <td>64</td>\n",
       "      <td>2</td>\n",
       "      <td>0</td>\n",
       "      <td>25.91</td>\n",
       "      <td>14.85</td>\n",
       "      <td>0.339232</td>\n",
       "    </tr>\n",
       "    <tr>\n",
       "      <th>5</th>\n",
       "      <td>55</td>\n",
       "      <td>2</td>\n",
       "      <td>5</td>\n",
       "      <td>16.99</td>\n",
       "      <td>9.05</td>\n",
       "      <td>0.243536</td>\n",
       "    </tr>\n",
       "    <tr>\n",
       "      <th>6</th>\n",
       "      <td>70</td>\n",
       "      <td>2</td>\n",
       "      <td>5</td>\n",
       "      <td>16.43</td>\n",
       "      <td>9.35</td>\n",
       "      <td>0.217158</td>\n",
       "    </tr>\n",
       "    <tr>\n",
       "      <th>7</th>\n",
       "      <td>54</td>\n",
       "      <td>3</td>\n",
       "      <td>0</td>\n",
       "      <td>25.72</td>\n",
       "      <td>14.12</td>\n",
       "      <td>0.355795</td>\n",
       "    </tr>\n",
       "    <tr>\n",
       "      <th>8</th>\n",
       "      <td>53</td>\n",
       "      <td>3</td>\n",
       "      <td>0</td>\n",
       "      <td>19.52</td>\n",
       "      <td>11.70</td>\n",
       "      <td>0.239855</td>\n",
       "    </tr>\n",
       "    <tr>\n",
       "      <th>9</th>\n",
       "      <td>59</td>\n",
       "      <td>3</td>\n",
       "      <td>5</td>\n",
       "      <td>29.48</td>\n",
       "      <td>17.28</td>\n",
       "      <td>0.374198</td>\n",
       "    </tr>\n",
       "    <tr>\n",
       "      <th>10</th>\n",
       "      <td>51</td>\n",
       "      <td>3</td>\n",
       "      <td>5</td>\n",
       "      <td>32.57</td>\n",
       "      <td>20.14</td>\n",
       "      <td>0.381253</td>\n",
       "    </tr>\n",
       "  </tbody>\n",
       "</table>\n",
       "</div>"
      ],
      "text/plain": [
       "    sample  station  depth (m)  1st reading (ug/L)  with HCL (ug/L)  \\\n",
       "0       62        1          0               28.63            16.90   \n",
       "1       63        1          0               32.71            18.16   \n",
       "2       60        1          5                9.77             7.27   \n",
       "3       57        2          0               29.16            17.32   \n",
       "4       64        2          0               25.91            14.85   \n",
       "5       55        2          5               16.99             9.05   \n",
       "6       70        2          5               16.43             9.35   \n",
       "7       54        3          0               25.72            14.12   \n",
       "8       53        3          0               19.52            11.70   \n",
       "9       59        3          5               29.48            17.28   \n",
       "10      51        3          5               32.57            20.14   \n",
       "\n",
       "    chlorophyll conc (ug/L)  \n",
       "0                  0.359783  \n",
       "1                  0.446278  \n",
       "2                  0.076680  \n",
       "3                  0.363156  \n",
       "4                  0.339232  \n",
       "5                  0.243536  \n",
       "6                  0.217158  \n",
       "7                  0.355795  \n",
       "8                  0.239855  \n",
       "9                  0.374198  \n",
       "10                 0.381253  "
      ]
     },
     "execution_count": 8,
     "metadata": {},
     "output_type": "execute_result"
    }
   ],
   "source": [
    "chloro"
   ]
  },
  {
   "cell_type": "code",
   "execution_count": 9,
   "metadata": {},
   "outputs": [],
   "source": [
    "depth0 = [stat.mean([chloro['chlorophyll conc (ug/L)'][0],chloro['chlorophyll conc (ug/L)'][1]]),stat.mean([chloro['chlorophyll conc (ug/L)'][3],chloro['chlorophyll conc (ug/L)'][4]]), stat.mean([chloro['chlorophyll conc (ug/L)'][8],chloro['chlorophyll conc (ug/L)'][8]])]\n",
    "depth5 = [chloro['chlorophyll conc (ug/L)'][2], stat.mean([chloro['chlorophyll conc (ug/L)'][5],chloro['chlorophyll conc (ug/L)'][6]]),stat.mean([chloro['chlorophyll conc (ug/L)'][9],chloro['chlorophyll conc (ug/L)'][10]])]"
   ]
  },
  {
   "cell_type": "code",
   "execution_count": 10,
   "metadata": {},
   "outputs": [],
   "source": [
    "#convert to carbon equivalent \n",
    "C0 = [i * 50 for i in depth0]#50 grams of carbon per gram of chlorophyll\n",
    "C5 = [i * 50 for i in depth5]"
   ]
  },
  {
   "cell_type": "code",
   "execution_count": 11,
   "metadata": {},
   "outputs": [
    {
     "data": {
      "text/plain": [
       "Text(0, 0.5, 'carbon concentration [ug/L]')"
      ]
     },
     "execution_count": 11,
     "metadata": {},
     "output_type": "execute_result"
    },
    {
     "data": {
      "image/png": "[encoded data removed]",
      "text/plain": [
       "<Figure size 432x288 with 1 Axes>"
      ]
     },
     "metadata": {
      "needs_background": "light"
     },
     "output_type": "display_data"
    }
   ],
   "source": [
    "stations = ['station 1', 'station 2', 'station 3']\n",
    "plt.plot(stations, C0, label = '0m sample')\n",
    "plt.plot(stations, C5, label = '5m sample')\n",
    "plt.scatter('station 2', Ctotal, c= 'orange', label ='phytoplankton estimate')\n",
    "#plt.ylim(0,0.55)\n",
    "plt.legend()\n",
    "plt.ylabel('carbon concentration [ug/L]')"
   ]
  },
  {
   "cell_type": "code",
   "execution_count": null,
   "metadata": {},
   "outputs": [],
   "source": []
  }
 ],
 "metadata": {
  "kernelspec": {
   "display_name": "eosc510",
   "language": "python",
   "name": "eosc510"
  },
  "language_info": {
   "codemirror_mode": {
    "name": "ipython",
    "version": 3
   },
   "file_extension": ".py",
   "mimetype": "text/x-python",
   "name": "python",
   "nbconvert_exporter": "python",
   "pygments_lexer": "ipython3",
   "version": "3.9.0"
  }
 },
 "nbformat": 4,
 "nbformat_minor": 4
}
