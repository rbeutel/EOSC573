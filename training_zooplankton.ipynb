{
 "cells": [
  {
   "cell_type": "markdown",
   "metadata": {},
   "source": [
    "# Zooplankton Results - Field School 2021"
   ]
  },
  {
   "cell_type": "code",
   "execution_count": 18,
   "metadata": {},
   "outputs": [],
   "source": [
    "import numpy as np\n",
    "import matplotlib.pyplot as plt\n",
    "import math\n",
    "import statistics as stat"
   ]
  },
  {
   "cell_type": "code",
   "execution_count": 5,
   "metadata": {},
   "outputs": [],
   "source": [
    "fm = 880236-876714\n",
    "flow = (fm/50)*125*0.01 #flow through in m"
   ]
  },
  {
   "cell_type": "code",
   "execution_count": 9,
   "metadata": {},
   "outputs": [],
   "source": [
    "Dnet = 0.75 #m\n",
    "V = math.pi*flow*Dnet**2*1000 #L"
   ]
  },
  {
   "cell_type": "markdown",
   "metadata": {},
   "source": [
    "#### Based on displacement volume"
   ]
  },
  {
   "cell_type": "code",
   "execution_count": 12,
   "metadata": {},
   "outputs": [],
   "source": [
    "Vcollect = 210 #mL\n",
    "Vdis = 10 #mL=cm3\n",
    "Mdis = Vdis/195 #mg of zooplankton wet mass"
   ]
  },
  {
   "cell_type": "code",
   "execution_count": 16,
   "metadata": {},
   "outputs": [
    {
     "name": "stdout",
     "output_type": "stream",
     "text": [
      "3.954985311524164e-08\n"
     ]
    }
   ],
   "source": [
    "DMdis = Mdis/V*0.2 #mg dry mass per L\n",
    "Cdis = DMdis*0.6 #mg C per L"
   ]
  },
  {
   "cell_type": "code",
   "execution_count": 30,
   "metadata": {},
   "outputs": [
    {
     "name": "stdout",
     "output_type": "stream",
     "text": [
      "Carbon content from zooplankton =3.955e-05 ug/L\n"
     ]
    }
   ],
   "source": [
    "print('Carbon content from zooplankton ='+str(round((Cdis*1000),8))+' ug/L')"
   ]
  },
  {
   "cell_type": "markdown",
   "metadata": {},
   "source": [
    "#### Based on zooplankton counting"
   ]
  },
  {
   "cell_type": "code",
   "execution_count": 20,
   "metadata": {},
   "outputs": [],
   "source": [
    "count = stat.mean([200,210,250]) #number of zooplankton per square\n",
    "Vsquare = 30/36 #mL\n",
    "Vzoo = math.pi*(0.15**2)*0.5*(1/10**3) #cm3 #average zooplankton size based on barnacle larva (most common)"
   ]
  },
  {
   "cell_type": "code",
   "execution_count": 23,
   "metadata": {},
   "outputs": [],
   "source": [
    "conc = (count/Vsquare)*Vzoo #cm3/mL\n",
    "collect = conc*Vcollect\n",
    "\n",
    "#convert back to wet mass instead of volume\n",
    "Mzoo = collect/195 #mg zooplankton wet mass"
   ]
  },
  {
   "cell_type": "code",
   "execution_count": 24,
   "metadata": {},
   "outputs": [
    {
     "name": "stdout",
     "output_type": "stream",
     "text": [
      "7.749443061197748e-09\n"
     ]
    }
   ],
   "source": [
    "DMzoo = Mzoo/V*0.2\n",
    "Czoo = DMzoo*0.6 #mgC/L"
   ]
  },
  {
   "cell_type": "code",
   "execution_count": 31,
   "metadata": {},
   "outputs": [
    {
     "name": "stdout",
     "output_type": "stream",
     "text": [
      "Carbon content from zooplankton =7.75e-06 ug/L\n"
     ]
    }
   ],
   "source": [
    "print('Carbon content from zooplankton ='+str(round((Czoo*1000),8))+' ug/L')"
   ]
  },
  {
   "cell_type": "code",
   "execution_count": null,
   "metadata": {},
   "outputs": [],
   "source": []
  }
 ],
 "metadata": {
  "kernelspec": {
   "display_name": "eosc510",
   "language": "python",
   "name": "eosc510"
  },
  "language_info": {
   "codemirror_mode": {
    "name": "ipython",
    "version": 3
   },
   "file_extension": ".py",
   "mimetype": "text/x-python",
   "name": "python",
   "nbconvert_exporter": "python",
   "pygments_lexer": "ipython3",
   "version": "3.9.0"
  }
 },
 "nbformat": 4,
 "nbformat_minor": 4
}
